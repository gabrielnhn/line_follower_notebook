{
 "cells": [
  {
   "attachments": {},
   "cell_type": "markdown",
   "metadata": {},
   "source": [
    "Olá, neste notebook, vamos aprender como podemos identificar o trajeto para um robô seguidor de linha, mesmo quando existe elementos como marcações ao lado ou efeitos de _glare_."
   ]
  },
  {
   "cell_type": "code",
   "execution_count": null,
   "metadata": {},
   "outputs": [
    {
     "name": "stderr",
     "output_type": "stream",
     "text": [
      "Traceback (most recent call last):\n"
     ]
    }
   ],
   "source": [
    "import cv2\n",
    "import numpy as np\n",
    "import matplotlib.pyplot as plt\n",
    "from ipywidgets import interact, interact_manual, IntSlider, FloatSlider\n",
    "\n",
    "image_path = \"glare.jpeg\"\n",
    "image = cv2.imread(image_path)\n",
    "\n",
    "threshed = None\n",
    "eroded = None\n",
    "\n",
    "plt.imshow(image)"
   ]
  },
  {
   "attachments": {},
   "cell_type": "markdown",
   "metadata": {},
   "source": [
    "Primeiro, já poderiamos utilizar _threshholds_ de cores para separar o fundo da linha branca. Use os arrastadores para ajustar os valores!"
   ]
  },
  {
   "cell_type": "code",
   "execution_count": null,
   "metadata": {},
   "outputs": [
    {
     "name": "stderr",
     "output_type": "stream",
     "text": [
      "Traceback (most recent call last):\n"
     ]
    }
   ],
   "source": [
    "def threshhold(threshA=0, threshB=255):\n",
    "    global image\n",
    "    global threshed\n",
    "    a, b = threshA, threshB\n",
    "    lower_bgr_values = np.array([a,  a,  a])\n",
    "    upper_bgr_values = np.array([b, b, b])\n",
    "\n",
    "    threshed = cv2.inRange(image, lower_bgr_values, upper_bgr_values)\n",
    "    plt.imshow(threshed)\n",
    "\n",
    "interact(threshhold, threshA=IntSlider(min=1, max=255, step=1, value=100),\n",
    "                     threshB=IntSlider(min=0, max=255, step=1, value=255))\n"
   ]
  },
  {
   "attachments": {},
   "cell_type": "markdown",
   "metadata": {},
   "source": [
    "Aplicando a operação de erosão, podemos separar objetos que antes estavam conectados, e deformar objetos que não tinham forma bem definida, como o _glare_. Mude o tamanho do _kernel_ e veja o resultado!"
   ]
  },
  {
   "cell_type": "code",
   "execution_count": null,
   "metadata": {},
   "outputs": [
    {
     "name": "stderr",
     "output_type": "stream",
     "text": [
      "Traceback (most recent call last):\n"
     ]
    }
   ],
   "source": [
    "def erode(size=10):\n",
    "    global threshed\n",
    "    global eroded\n",
    "    kernel = np.ones((size, size), np.uint8)\n",
    "    eroded = cv2.erode(threshed, kernel)\n",
    "    plt.imshow(eroded)\n",
    "\n",
    "interact(erode, size=IntSlider(min=0, max=30, step=1, value=0))"
   ]
  },
  {
   "attachments": {},
   "cell_type": "markdown",
   "metadata": {},
   "source": [
    "Agora, na parte final, "
   ]
  },
  {
   "cell_type": "code",
   "execution_count": null,
   "metadata": {},
   "outputs": [
    {
     "name": "stderr",
     "output_type": "stream",
     "text": [
      "Traceback (most recent call last):\n"
     ]
    }
   ],
   "source": [
    "MIN_AREA = 10000\n",
    "MIN_AREA_TRACK = 30000\n",
    "MAX_CONTOUR_VERTICES = 50\n",
    "\n",
    "def getContour(eps=1.5, MIN_AREA_TRACK=30000, MAX_CONTOUR_VERTICES=50):\n",
    "    \"\"\"\n",
    "    Return the centroid of the largest contour in\n",
    "    the binary image 'mask' (the line)\n",
    "    and draw all contours on 'out' image\n",
    "    \"\"\"\n",
    "\n",
    "    global image\n",
    "    global eroded\n",
    "    out = image.copy()\n",
    "\n",
    "    # get a list of contours\n",
    "    contours, _ = cv2.findContours(eroded, cv2.RETR_EXTERNAL, cv2.CHAIN_APPROX_NONE)\n",
    "\n",
    "    mark = {}\n",
    "    line = {}\n",
    "    over = False\n",
    "    tried_once = False\n",
    "\n",
    "    possible_tracks = []\n",
    "    for contour in contours:\n",
    "        M = cv2.moments(contour)\n",
    "        # Search more about Image Moments on Wikipedia 🙂 (it's the 'center')\n",
    "\n",
    "        contour = cv2.approxPolyDP(contour, eps, True)\n",
    "        contour_vertices = len(contour)\n",
    "\n",
    "\n",
    "        if (M['m00'] < MIN_AREA):\n",
    "            continue\n",
    "\n",
    "        if (contour_vertices < MAX_CONTOUR_VERTICES) and (M['m00'] > MIN_AREA_TRACK):\n",
    "\n",
    "            # Contour is part of the track\n",
    "            line['x'] = int(M[\"m10\"]/M[\"m00\"])\n",
    "            line['y'] = int(M[\"m01\"]/M[\"m00\"])\n",
    "\n",
    "            possible_tracks.append(line)\n",
    "\n",
    "            # plot the amount of vertices in light blue\n",
    "            # cv2.drawContours(out, contour, -1, (255,255,0), 2)\n",
    "            cv2.drawContours(out, [contour], -1, (255,255,0), 2)\n",
    "            cv2.putText(out, f\"Track\", (int(M[\"m10\"]/M[\"m00\"]), int(M[\"m01\"]/M[\"m00\"])-200),\n",
    "                cv2.FONT_HERSHEY_PLAIN, 3, (100,100,255), 4)\n",
    "\n",
    "        else:\n",
    "            # plot the area in pink\n",
    "            cv2.drawContours(out, contour, -1, (255,0,255), 4)\n",
    "            cv2.putText(out, f\"Ignored\", (int(M[\"m10\"]/M[\"m00\"]), int(M[\"m01\"]/M[\"m00\"])),\n",
    "                cv2.FONT_HERSHEY_PLAIN, 3, (100,100,255), 4)\n",
    "\n",
    "    for line in possible_tracks:\n",
    "        cv2.circle(out, (line['x'], line['y']), 5, (0,255,0), 5)\n",
    "\n",
    "    plt.imshow(out)\n",
    "\n",
    "interact(getContour, eps=FloatSlider(min=0, max=15, step=0.1, value=0.5), MIN_AREA_TRACK=IntSlider(min=10000, max=50000, step=10000), MAX_CONTOUR_VERTICES=IntSlider(min=20, max=70, step=5))"
   ]
  },
  {
   "attachments": {},
   "cell_type": "markdown",
   "metadata": {},
   "source": [
    "Com isso, o robô pode calcular o centro deste contorno e descobrir onde deve ir!"
   ]
  }
 ],
 "metadata": {
  "kernelspec": {
   "display_name": "Python 3.8.10 64-bit",
   "language": "python",
   "name": "python3"
  },
  "language_info": {
   "codemirror_mode": {
    "name": "ipython",
    "version": 3
   },
   "file_extension": ".py",
   "mimetype": "text/x-python",
   "name": "python",
   "nbconvert_exporter": "python",
   "pygments_lexer": "ipython3",
   "version": "3.8.10"
  },
  "orig_nbformat": 4,
  "vscode": {
   "interpreter": {
    "hash": "916dbcbb3f70747c44a77c7bcd40155683ae19c65e1c03b4aa3499c5328201f1"
   }
  }
 },
 "nbformat": 4,
 "nbformat_minor": 2
}
